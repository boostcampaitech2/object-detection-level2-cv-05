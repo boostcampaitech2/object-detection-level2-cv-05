{
 "cells": [
  {
   "cell_type": "code",
   "execution_count": null,
   "id": "02782b6b-6086-4818-a79f-228e4fd9e186",
   "metadata": {},
   "outputs": [],
   "source": [
    "# 생성 시에 convert_output_path 에 `train` 폴더가 있어야함. -> 파일이름이('train/0000.jpg') 라 어쩔수 없다.\n",
    "# 그래서 split_valid.json 후 폴더 명을 -> val 로 바꿔주어야함\n",
    "# 순서대로 따라가시면 됩니다.\n",
    "# trash\n",
    "# ├── images\n",
    "# ├    ├── train\n",
    "#.├    └── val\n",
    "# └── labels\n",
    "#      ├── train\n",
    "#      └── val"
   ]
  },
  {
   "cell_type": "markdown",
   "id": "90e04a26-8427-486f-a1d0-ed44059c226a",
   "metadata": {},
   "source": [
    "# COCO to YOLO\n",
    "> https://github.com/ssaru/convert2Yolo 이용.  \n",
    "> coco.name 를 dataset 폴더안에 넣어주시면 됩니다"
   ]
  },
  {
   "cell_type": "markdown",
   "id": "438b8d4b-6429-45b5-83c6-45da1e808efd",
   "metadata": {},
   "source": [
    "!python3 example.py --datasets COCO \n",
    "                    --img_path /opt/ml/detection/dataset\n",
    "                    --label /opt/ml/detection/dataset/split_valid.json \n",
    "                    --convert_output_path /opt/ml/detection/yolov5/trash/labels \n",
    "                    --img_type \".jpg\" \n",
    "                    --manifest_path /opt/ml/detection/yolov5/trash/labels \n",
    "                    --cls_list_file /opt/ml/detection/dataset/coco.names"
   ]
  },
  {
   "cell_type": "code",
   "execution_count": null,
   "id": "7311f100-651e-4226-a2a2-d8ed1006ff8a",
   "metadata": {},
   "outputs": [],
   "source": [
    "# !git clone https://github.com/ssaru/convert2Yolo.git\n",
    "# !cd convert2Yolo"
   ]
  },
  {
   "cell_type": "markdown",
   "id": "a5e4e74f-27d0-48b7-8777-895f42000c85",
   "metadata": {},
   "source": [
    "### Valid"
   ]
  },
  {
   "cell_type": "code",
   "execution_count": 36,
   "id": "b02bacec-9f32-4c61-ba4d-aacaf433e753",
   "metadata": {},
   "outputs": [],
   "source": [
    "import os\n",
    "img_path = \"/opt/ml/detection/dataset\"\n",
    "val_label = \"/opt/ml/detection/dataset/split_valid.json\"\n",
    "train_label = \"/opt/ml/detection/dataset/split_train.json\"\n",
    "\n",
    "out_path = \"/opt/ml/detection/yolov5/trash\"\n",
    "\n",
    "os.mkdir(out_path)\n",
    "os.mkdir(os.path.join(out_path,\"labels\"))\n",
    "os.mkdir(os.path.join(out_path,\"labels\",\"train\"))"
   ]
  },
  {
   "cell_type": "code",
   "execution_count": 37,
   "id": "3a840d25-ca10-435b-aecb-2a005edeaeb5",
   "metadata": {},
   "outputs": [
    {
     "name": "stdout",
     "output_type": "stream",
     "text": [
      "\n",
      "COCO Parsing:  |████████████████████████████████████████| 100.0% (4626/4626)  Complete\n",
      "\n",
      "\n",
      "YOLO Generating:|████████████████████████████████████████| 100.0% (988/988)  Complete\n",
      "\n",
      "\n",
      "YOLO Saving:   |████████████████████████████████████████| 100.0% (988/988)  Complete\n",
      "\n"
     ]
    }
   ],
   "source": [
    "!python3 example.py  --datasets COCO --img_path /opt/ml/detection/dataset --label /opt/ml/detection/dataset/split_valid.json --convert_output_path /opt/ml/detection/yolov5/trash/labels --img_type \".jpg\" --manifest_path /opt/ml/detection/yolov5/trash/labels --cls_list_file /opt/ml/detection/dataset/coco.names"
   ]
  },
  {
   "cell_type": "code",
   "execution_count": 38,
   "id": "017f8337-8c48-4cc6-a398-f4014d4e4385",
   "metadata": {},
   "outputs": [],
   "source": [
    "# rename to val\n",
    "os.rename(os.path.join(out_path,\"labels\",\"train\"),os.path.join(out_path,\"labels\",\"val\"))\n",
    "os.rename(os.path.join(out_path,\"labels\",\"manifest.txt\"),os.path.join(out_path,\"labels\",\"val_manifest.txt\"))"
   ]
  },
  {
   "cell_type": "markdown",
   "id": "388aa845-f407-4b33-ad0b-b4091984893b",
   "metadata": {},
   "source": [
    "### Train"
   ]
  },
  {
   "cell_type": "code",
   "execution_count": 39,
   "id": "60155f82-6702-4342-8545-526d6c9b7ff0",
   "metadata": {},
   "outputs": [],
   "source": [
    "os.mkdir(os.path.join(out_path,\"labels\",\"train\"))"
   ]
  },
  {
   "cell_type": "code",
   "execution_count": 44,
   "id": "254a7d44-7814-4f55-9541-eab0d71229ef",
   "metadata": {},
   "outputs": [
    {
     "name": "stdout",
     "output_type": "stream",
     "text": [
      "\n",
      "COCO Parsing:  |████████████████████████████████████████| 100.0% (18518/18518)  Complete�████████████---------------| 64.6% (11954/18518)  Complete\n",
      "\n",
      "\n",
      "YOLO Generating:|████████████████████████████████████████| 100.0% (3895/3895)  Complete\n",
      "\n",
      "\n",
      "YOLO Saving:   |████████████████████████████████████████| 100.0% (3895/3895)  Complete\n",
      "\n"
     ]
    }
   ],
   "source": [
    "!python3 example.py --datasets COCO --img_path /opt/ml/detection/dataset --label /opt/ml/detection/dataset/split_train.json --convert_output_path /opt/ml/detection/yolov5/trash/labels --img_type \".jpg\" --manifest_path /opt/ml/detection/yolov5/trash/labels --cls_list_file /opt/ml/detection/dataset/coco.names"
   ]
  },
  {
   "cell_type": "code",
   "execution_count": 45,
   "id": "b4f68b09-7978-4406-851b-92cff3db11c7",
   "metadata": {},
   "outputs": [],
   "source": [
    "# rename to train\n",
    "os.rename(os.path.join(out_path,\"labels\",\"manifest.txt\"),os.path.join(out_path,\"labels\",\"train_manifest.txt\"))"
   ]
  },
  {
   "cell_type": "markdown",
   "id": "7d831112-0f20-4aa4-ae66-56d69efbeaea",
   "metadata": {},
   "source": [
    "# Copy to Yolo"
   ]
  },
  {
   "cell_type": "code",
   "execution_count": 42,
   "id": "e5f3b748-1f7f-4e32-b7e4-47a76376b264",
   "metadata": {},
   "outputs": [],
   "source": [
    "out_path = \"/opt/ml/detection/yolov5/trash/\"\n",
    "\n",
    "os.mkdir(os.path.join(out_path,\"images\"))\n",
    "os.mkdir(os.path.join(out_path,\"images\",\"train\"))\n",
    "os.mkdir(os.path.join(out_path,\"images\",\"val\"))"
   ]
  },
  {
   "cell_type": "code",
   "execution_count": 46,
   "id": "f072c14c-01a8-4890-bb3f-da9985f651f9",
   "metadata": {},
   "outputs": [],
   "source": [
    "import shutil\n",
    "\n",
    "\n",
    "with open(os.path.join(out_path,\"labels\",\"train_manifest.txt\"), \"r\") as f :\n",
    "    train_files = f.read()\n",
    "    train_files = train_files.split('\\n')\n",
    "\n",
    "with open(os.path.join(out_path,\"labels\",\"val_manifest.txt\"), \"r\") as f :\n",
    "    valid_files = f.read()\n",
    "    valid_files = valid_files.split('\\n')\n",
    "\n",
    "\n",
    "dst = os.path.join(out_path,\"images/train\")\n",
    "for file in train_files[:-1] :\n",
    "    shutil.copy(file,dst)\n",
    "    \n",
    "dst = os.path.join(out_path,\"images/val\")\n",
    "for file in valid_files[:-1] :\n",
    "    shutil.copy(file,dst)"
   ]
  },
  {
   "cell_type": "code",
   "execution_count": 47,
   "id": "9f545acf-52eb-476c-b5dd-ccb34430aa81",
   "metadata": {},
   "outputs": [
    {
     "name": "stdout",
     "output_type": "stream",
     "text": [
      "Train img : 3895 , Label : 3895\n",
      "Valid img : 988 , Label : 988\n"
     ]
    }
   ],
   "source": [
    "import os\n",
    "\n",
    "train_img = os.listdir(\"../coco/images/train\")\n",
    "valid_img = os.listdir(\"../coco/images/val\")\n",
    "\n",
    "train_label = os.listdir(\"../coco/labels/train\")\n",
    "valid_label = os.listdir(\"../coco/labels/val\")\n",
    "\n",
    "print(f\"Train img : {len(train_img)} , Label : {len(train_label)}\")\n",
    "print(f\"Valid img : {len(valid_img)} , Label : {len(valid_label)}\")"
   ]
  },
  {
   "cell_type": "code",
   "execution_count": null,
   "id": "5a637203-1f3f-4f0f-9577-66e1a31134b3",
   "metadata": {},
   "outputs": [],
   "source": [
    "# rm -r labels/val/.*"
   ]
  }
 ],
 "metadata": {
  "kernelspec": {
   "display_name": "yolo",
   "language": "python",
   "name": "yolo"
  },
  "language_info": {
   "codemirror_mode": {
    "name": "ipython",
    "version": 3
   },
   "file_extension": ".py",
   "mimetype": "text/x-python",
   "name": "python",
   "nbconvert_exporter": "python",
   "pygments_lexer": "ipython3",
   "version": "3.7.11"
  }
 },
 "nbformat": 4,
 "nbformat_minor": 5
}
