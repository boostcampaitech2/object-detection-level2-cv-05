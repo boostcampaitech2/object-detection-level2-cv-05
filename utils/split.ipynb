{
 "cells": [
  {
   "cell_type": "code",
   "execution_count": 87,
   "id": "753ad5f0-ac8a-47b2-9770-f1d3589bbf88",
   "metadata": {},
   "outputs": [],
   "source": [
    "import json\n",
    "import numpy as np\n",
    "\n",
    "IMAGE_NUM = 4883\n",
    "CLASS_NUM = 10"
   ]
  },
  {
   "cell_type": "code",
   "execution_count": 88,
   "id": "dd07d74b-3c44-4e24-92ff-93d7272b63b8",
   "metadata": {},
   "outputs": [],
   "source": [
    "json_file = open('./train.json')\n",
    "infos = json.load(json_file)\n",
    "json_file.close()\n",
    "\n",
    "annotations = infos['annotations']"
   ]
  },
  {
   "cell_type": "code",
   "execution_count": 89,
   "id": "82b72603-f4dd-4ff4-8a9b-c81ce17827bd",
   "metadata": {},
   "outputs": [],
   "source": [
    "class_per_image = np.zeros((IMAGE_NUM, CLASS_NUM))\n",
    "for info in annotations:\n",
    "    class_per_image[info['image_id'], info['category_id']] += 1 "
   ]
  },
  {
   "cell_type": "code",
   "execution_count": 39,
   "id": "b6c132f8-52b6-4a36-b6dc-68c0ca34bd63",
   "metadata": {},
   "outputs": [],
   "source": [
    "max_values = class_per_image.max(1)\n",
    "max_class = class_per_image.argmax(1)\n",
    "sorted_idx = max_values.argsort()[::-1]"
   ]
  },
  {
   "cell_type": "code",
   "execution_count": 48,
   "id": "e5a98cd0-aa63-402a-97d3-23cd5b789305",
   "metadata": {},
   "outputs": [],
   "source": [
    "K = 5\n",
    "count_instance = np.zeros((K,10))\n",
    "K_fold = [[]for i in range(K)]\n",
    "for idx in sorted_idx:\n",
    "    value = max_values[idx]\n",
    "    class_idx = max_class[idx]\n",
    "    min_fold = count_instance[:,class_idx].argmin()\n",
    "    count_instance[min_fold] += class_per_image[idx]\n",
    "    K_fold[min_fold].append(idx)"
   ]
  },
  {
   "cell_type": "code",
   "execution_count": 97,
   "id": "9ad45eaa-2c7d-4934-826e-1e86af77a652",
   "metadata": {},
   "outputs": [
    {
     "name": "stdout",
     "output_type": "stream",
     "text": [
      "0 fold: 951\n",
      "1 fold: 977\n",
      "2 fold: 988\n",
      "3 fold: 988\n",
      "4 fold: 979\n"
     ]
    }
   ],
   "source": [
    "for i in range(K):\n",
    "    print(f'{i} fold: {len(K_fold[i])}')"
   ]
  },
  {
   "cell_type": "code",
   "execution_count": 99,
   "id": "4d72e06c-7cda-4a07-8fac-c35ddd0d4588",
   "metadata": {},
   "outputs": [
    {
     "name": "stdout",
     "output_type": "stream",
     "text": [
      "0 fold: [ 794. 1271.  181.  188.  197.  589.  253. 1036.   32.   94.]\n",
      "1 fold: [ 793. 1270.  179.  187.  196.  588.  254. 1036.   33.   93.]\n",
      "2 fold: [ 793. 1271.  179.  187.  197.  589.  252. 1035.   32.   94.]\n",
      "3 fold: [ 793. 1270.  179.  187.  196.  588.  252. 1036.   31.   94.]\n",
      "4 fold: [ 793. 1270.  179.  187.  196.  589.  252. 1035.   31.   93.]\n"
     ]
    }
   ],
   "source": [
    "for i in range(K):\n",
    "    print(f'{i} fold: {count_instance[i]}')"
   ]
  },
  {
   "cell_type": "markdown",
   "id": "4d0ae7fb-5676-4169-9156-078d56f989e1",
   "metadata": {},
   "source": [
    "## Save split"
   ]
  },
  {
   "cell_type": "code",
   "execution_count": 69,
   "id": "844b6f3e-1a8c-4e9e-b85a-8c4362503d35",
   "metadata": {},
   "outputs": [],
   "source": [
    "valid_fold_idx = 2"
   ]
  },
  {
   "cell_type": "code",
   "execution_count": 70,
   "id": "a0f6b713-bc0a-433b-ad1c-60c9dc70c04a",
   "metadata": {},
   "outputs": [],
   "source": [
    "train_dict = dict()\n",
    "valid_dict = dict()\n",
    "\n",
    "train_dict['info'] = infos['info']\n",
    "train_dict['licenses'] = infos['licenses']\n",
    "train_dict['images'] = list()\n",
    "train_dict['annotations'] = list()\n",
    "train_dict['categories'] = infos['categories']\n",
    "valid_dict['info'] = infos['info']\n",
    "valid_dict['licenses'] = infos['licenses']\n",
    "valid_dict['images'] = list()\n",
    "valid_dict['annotations'] = list()\n",
    "valid_dict['categories'] = infos['categories']\n",
    "\n",
    "valid_inds = K_fold[valid_fold_idx]"
   ]
  },
  {
   "cell_type": "code",
   "execution_count": 73,
   "id": "8045110d-70e6-4b72-a5fb-3be64c41b13f",
   "metadata": {},
   "outputs": [],
   "source": [
    "for img_info in infos['images']:\n",
    "    image_id = img_info['id']\n",
    "    if image_id in valid_inds:\n",
    "        valid_dict['images'].append(img_info)\n",
    "    else:\n",
    "        train_dict['images'].append(img_info)\n",
    "        \n",
    "for ann_info in infos['annotations']:\n",
    "    image_id = ann_info['image_id']\n",
    "    if image_id in valid_inds:\n",
    "        valid_dict['annotations'].append(ann_info)\n",
    "    else:\n",
    "        train_dict['annotations'].append(ann_info)"
   ]
  },
  {
   "cell_type": "code",
   "execution_count": 75,
   "id": "c39ae93a-3baf-418b-aa2a-329d2aea1e25",
   "metadata": {},
   "outputs": [],
   "source": [
    "with open(\"split_train.json\", \"w\") as json_train:\n",
    "    json.dump(train_dict, json_train)\n",
    "with open(\"split_valid.json\", \"w\") as json_valid:\n",
    "    json.dump(valid_dict, json_valid)"
   ]
  }
 ],
 "metadata": {
  "kernelspec": {
   "display_name": "detection",
   "language": "python",
   "name": "detection"
  },
  "language_info": {
   "codemirror_mode": {
    "name": "ipython",
    "version": 3
   },
   "file_extension": ".py",
   "mimetype": "text/x-python",
   "name": "python",
   "nbconvert_exporter": "python",
   "pygments_lexer": "ipython3",
   "version": "3.7.11"
  }
 },
 "nbformat": 4,
 "nbformat_minor": 5
}
